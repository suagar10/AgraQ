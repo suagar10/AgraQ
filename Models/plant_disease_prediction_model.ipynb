{
 "cells": [
  {
   "cell_type": "markdown",
   "metadata": {},
   "source": [
    "#### IMPORTING LIBRARIES"
   ]
  },
  {
   "cell_type": "code",
   "execution_count": 17,
   "metadata": {},
   "outputs": [],
   "source": [
    "import tensorflow as tf\n",
    "from tensorflow import keras\n",
    "import matplotlib.pyplot as plt\n",
    "import numpy as np\n",
    "import os\n",
    "from keras.callbacks import ModelCheckpoint\n",
    "import pandas as pd"
   ]
  },
  {
   "cell_type": "markdown",
   "metadata": {},
   "source": [
    "#### IMPORTING DATASET"
   ]
  },
  {
   "cell_type": "code",
   "execution_count": 2,
   "metadata": {
    "scrolled": true
   },
   "outputs": [],
   "source": [
    "base_dir = \"D:/PROJECTS/LEAF DISEASE DETECTION/New Plant Diseases Dataset(Augmented)\"\n",
    "image_size = 224"
   ]
  },
  {
   "cell_type": "markdown",
   "metadata": {},
   "source": [
    "#### DATA GENERATION"
   ]
  },
  {
   "cell_type": "code",
   "execution_count": 6,
   "metadata": {},
   "outputs": [
    {
     "name": "stdout",
     "output_type": "stream",
     "text": [
      "Found 17572 images belonging to 38 classes.\n"
     ]
    }
   ],
   "source": [
    "train_datagen = keras.preprocessing.image.ImageDataGenerator(rescale = 1/255.0)\n",
    "batch_size = 32\n",
    "train_data = train_datagen.flow_from_directory(os.path.join(base_dir,\"valid\"),\n",
    "                                               target_size=(image_size,image_size),\n",
    "                                               batch_size=batch_size,\n",
    "                                               class_mode=\"categorical\"                                               \n",
    "                                              )"
   ]
  },
  {
   "cell_type": "code",
   "execution_count": 7,
   "metadata": {},
   "outputs": [
    {
     "data": {
      "text/plain": [
       "(224, 224, 3)"
      ]
     },
     "execution_count": 7,
     "metadata": {},
     "output_type": "execute_result"
    }
   ],
   "source": [
    "train_data.image_shape"
   ]
  },
  {
   "cell_type": "code",
   "execution_count": 8,
   "metadata": {},
   "outputs": [
    {
     "name": "stdout",
     "output_type": "stream",
     "text": [
      "Downloading data from https://storage.googleapis.com/tensorflow/keras-applications/mobilenet/mobilenet_1_0_224_tf_no_top.h5\n",
      "17227776/17225924 [==============================] - 6s 0us/step\n"
     ]
    }
   ],
   "source": [
    "base_model = keras.applications.MobileNet(weights=\"imagenet\",include_top=False,input_shape=(image_size,image_size,3))"
   ]
  },
  {
   "cell_type": "markdown",
   "metadata": {},
   "source": [
    "#### TRAINING THE MODEL"
   ]
  },
  {
   "cell_type": "code",
   "execution_count": 10,
   "metadata": {},
   "outputs": [],
   "source": [
    "base_model.trainable = False\n",
    "inputs = keras.Input(shape=(image_size,image_size,3))\n",
    "x = base_model(inputs,training=False)\n",
    "x = keras.layers.GlobalAveragePooling2D()(x)\n",
    "x = keras.layers.Dropout(0.2)(x)\n",
    "categories = list(train_data.class_indices.keys())\n",
    "x = keras.layers.Dense(len(categories),activation=\"softmax\")(x)\n",
    "model = keras.Model(inputs=inputs, outputs=x, name=\"LeafDisease_MobileNet\")"
   ]
  },
  {
   "cell_type": "code",
   "execution_count": 13,
   "metadata": {},
   "outputs": [
    {
     "name": "stdout",
     "output_type": "stream",
     "text": [
      "Epoch 1/25\n",
      "150/150 [==============================] - 236s 2s/step - loss: 3.3429 - categorical_accuracy: 0.4053 - val_loss: 3.0593 - val_categorical_accuracy: 0.7044\n",
      "Epoch 2/25\n",
      "150/150 [==============================] - 144s 957ms/step - loss: 3.0137 - categorical_accuracy: 0.7316 - val_loss: 2.9445 - val_categorical_accuracy: 0.7844\n",
      "Epoch 3/25\n",
      "150/150 [==============================] - 92s 614ms/step - loss: 2.9377 - categorical_accuracy: 0.7827 - val_loss: 2.9096 - val_categorical_accuracy: 0.8106\n",
      "Epoch 4/25\n",
      "150/150 [==============================] - 61s 409ms/step - loss: 2.9077 - categorical_accuracy: 0.8067 - val_loss: 2.8834 - val_categorical_accuracy: 0.8297\n",
      "Epoch 5/25\n",
      "150/150 [==============================] - 46s 303ms/step - loss: 2.8786 - categorical_accuracy: 0.8323 - val_loss: 2.8663 - val_categorical_accuracy: 0.8378\n",
      "Epoch 6/25\n",
      "150/150 [==============================] - 32s 210ms/step - loss: 2.8700 - categorical_accuracy: 0.8371 - val_loss: 2.8506 - val_categorical_accuracy: 0.8581\n",
      "Epoch 7/25\n",
      "150/150 [==============================] - 30s 198ms/step - loss: 2.8546 - categorical_accuracy: 0.8510 - val_loss: 2.8385 - val_categorical_accuracy: 0.8694\n",
      "Epoch 8/25\n",
      "150/150 [==============================] - 25s 165ms/step - loss: 2.8417 - categorical_accuracy: 0.8619 - val_loss: 2.8234 - val_categorical_accuracy: 0.8791\n",
      "Epoch 9/25\n",
      "150/150 [==============================] - 25s 163ms/step - loss: 2.8339 - categorical_accuracy: 0.8704 - val_loss: 2.8053 - val_categorical_accuracy: 0.8972\n",
      "Epoch 10/25\n",
      "150/150 [==============================] - 25s 165ms/step - loss: 2.8350 - categorical_accuracy: 0.8661 - val_loss: 2.8332 - val_categorical_accuracy: 0.8641\n",
      "Epoch 11/25\n",
      "150/150 [==============================] - 25s 166ms/step - loss: 2.8221 - categorical_accuracy: 0.8779 - val_loss: 2.8181 - val_categorical_accuracy: 0.8797\n",
      "Epoch 12/25\n",
      "150/150 [==============================] - 30s 200ms/step - loss: 2.8229 - categorical_accuracy: 0.8768 - val_loss: 2.8171 - val_categorical_accuracy: 0.8803\n",
      "Epoch 13/25\n",
      "150/150 [==============================] - 26s 175ms/step - loss: 2.8125 - categorical_accuracy: 0.8873 - val_loss: 2.8119 - val_categorical_accuracy: 0.8841\n",
      "Epoch 14/25\n",
      "150/150 [==============================] - 26s 174ms/step - loss: 2.8116 - categorical_accuracy: 0.8863 - val_loss: 2.8000 - val_categorical_accuracy: 0.8941\n",
      "Epoch 15/25\n",
      "150/150 [==============================] - 24s 158ms/step - loss: 2.8098 - categorical_accuracy: 0.8908 - val_loss: 2.7977 - val_categorical_accuracy: 0.8956\n",
      "Epoch 16/25\n",
      "150/150 [==============================] - 24s 157ms/step - loss: 2.8105 - categorical_accuracy: 0.8854 - val_loss: 2.8023 - val_categorical_accuracy: 0.8881\n",
      "Epoch 17/25\n",
      "150/150 [==============================] - 25s 164ms/step - loss: 2.8109 - categorical_accuracy: 0.8844 - val_loss: 2.8043 - val_categorical_accuracy: 0.8897\n",
      "Epoch 18/25\n",
      "150/150 [==============================] - 24s 162ms/step - loss: 2.7997 - categorical_accuracy: 0.8973 - val_loss: 2.7911 - val_categorical_accuracy: 0.9009\n",
      "Epoch 19/25\n",
      "150/150 [==============================] - 24s 160ms/step - loss: 2.8025 - categorical_accuracy: 0.8933 - val_loss: 2.7870 - val_categorical_accuracy: 0.9062\n",
      "Epoch 20/25\n",
      "150/150 [==============================] - 24s 163ms/step - loss: 2.8029 - categorical_accuracy: 0.8929 - val_loss: 2.7941 - val_categorical_accuracy: 0.8981\n",
      "Epoch 21/25\n",
      "150/150 [==============================] - 26s 172ms/step - loss: 2.8046 - categorical_accuracy: 0.8888 - val_loss: 2.8000 - val_categorical_accuracy: 0.8884\n",
      "Epoch 22/25\n",
      "150/150 [==============================] - 24s 161ms/step - loss: 2.7964 - categorical_accuracy: 0.8975 - val_loss: 2.7778 - val_categorical_accuracy: 0.9131\n",
      "Epoch 23/25\n",
      "150/150 [==============================] - 28s 189ms/step - loss: 2.7842 - categorical_accuracy: 0.9104 - val_loss: 2.7660 - val_categorical_accuracy: 0.9250\n",
      "Epoch 24/25\n",
      "150/150 [==============================] - 25s 165ms/step - loss: 2.7758 - categorical_accuracy: 0.9194 - val_loss: 2.7650 - val_categorical_accuracy: 0.9259\n",
      "Epoch 25/25\n",
      "150/150 [==============================] - 23s 154ms/step - loss: 2.7784 - categorical_accuracy: 0.9158 - val_loss: 2.7662 - val_categorical_accuracy: 0.9237\n"
     ]
    }
   ],
   "source": [
    "optimizer = keras.optimizers.Adam()\n",
    "model.compile(optimizer=optimizer,loss=keras.losses.CategoricalCrossentropy(from_logits=True),\n",
    "              metrics=[keras.metrics.CategoricalAccuracy()])\n",
    "history = model.fit_generator(train_data,\n",
    "          validation_data=test_data,\n",
    "          epochs=25,\n",
    "          steps_per_epoch=150,\n",
    "          validation_steps=100)"
   ]
  },
  {
   "cell_type": "code",
   "execution_count": 14,
   "metadata": {},
   "outputs": [
    {
     "name": "stdout",
     "output_type": "stream",
     "text": [
      "550/550 [==============================] - 61s 112ms/step - loss: 2.7663 - categorical_accuracy: 0.9249\n"
     ]
    },
    {
     "data": {
      "text/plain": [
       "[2.7663016319274902, 0.9248805046081543]"
      ]
     },
     "execution_count": 14,
     "metadata": {},
     "output_type": "execute_result"
    }
   ],
   "source": [
    "model.evaluate(test_data)"
   ]
  },
  {
   "cell_type": "markdown",
   "metadata": {},
   "source": [
    "### ACCURACY == 92.5%"
   ]
  },
  {
   "cell_type": "code",
   "execution_count": 19,
   "metadata": {},
   "outputs": [],
   "source": [
    "model.save('plant_desease.h5')"
   ]
  },
  {
   "cell_type": "code",
   "execution_count": 15,
   "metadata": {},
   "outputs": [
    {
     "data": {
      "text/plain": [
       "<matplotlib.legend.Legend at 0x2a7936c8488>"
      ]
     },
     "execution_count": 15,
     "metadata": {},
     "output_type": "execute_result"
    },
    {
     "data": {
      "image/png": "[encoded data removed]",
      "text/plain": [
       "<Figure size 720x432 with 1 Axes>"
      ]
     },
     "metadata": {
      "needs_background": "light"
     },
     "output_type": "display_data"
    }
   ],
   "source": [
    "loss = history.history['loss']\n",
    "val_loss = history.history['val_loss']\n",
    "\n",
    "epochs = range(len(loss))\n",
    "\n",
    "fig = plt.figure(figsize=(10,6))\n",
    "plt.plot(epochs,loss,c=\"red\",label=\"Training\")\n",
    "plt.plot(epochs,val_loss,c=\"blue\",label=\"Validation\")\n",
    "plt.xlabel(\"Epochs\")\n",
    "plt.ylabel(\"Loss\")\n",
    "plt.legend()"
   ]
  },
  {
   "cell_type": "code",
   "execution_count": 16,
   "metadata": {},
   "outputs": [
    {
     "data": {
      "text/plain": [
       "<matplotlib.legend.Legend at 0x2a7936c85c8>"
      ]
     },
     "execution_count": 16,
     "metadata": {},
     "output_type": "execute_result"
    },
    {
     "data": {
      "image/png": "[encoded data removed]",
      "text/plain": [
       "<Figure size 720x432 with 1 Axes>"
      ]
     },
     "metadata": {
      "needs_background": "light"
     },
     "output_type": "display_data"
    }
   ],
   "source": [
    "acc = history.history['categorical_accuracy']\n",
    "val_acc = history.history['val_categorical_accuracy']\n",
    "\n",
    "epochs = range(len(acc))\n",
    "\n",
    "fig = plt.figure(figsize=(10,6))\n",
    "plt.plot(epochs,acc,c=\"red\",label=\"Training\")\n",
    "plt.plot(epochs,val_acc,c=\"blue\",label=\"Validation\")\n",
    "plt.xlabel(\"Epochs\")\n",
    "plt.ylabel(\"Accuracy\")\n",
    "plt.legend()"
   ]
  },
  {
   "cell_type": "code",
   "execution_count": null,
   "metadata": {},
   "outputs": [],
   "source": []
  }
 ],
 "metadata": {
  "kernelspec": {
   "display_name": "Python 3",
   "language": "python",
   "name": "python3"
  },
  "language_info": {
   "codemirror_mode": {
    "name": "ipython",
    "version": 3
   },
   "file_extension": ".py",
   "mimetype": "text/x-python",
   "name": "python",
   "nbconvert_exporter": "python",
   "pygments_lexer": "ipython3",
   "version": "3.7.6"
  }
 },
 "nbformat": 4,
 "nbformat_minor": 4
}
